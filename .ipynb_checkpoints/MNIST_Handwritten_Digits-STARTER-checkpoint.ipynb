{
 "cells": [
  {
   "cell_type": "markdown",
   "metadata": {},
   "source": [
    "# Introduction\n",
    "\n",
    "In this project, you will build a neural network of your own design to evaluate the MNIST dataset.\n",
    "\n",
    "Some of the benchmark results on MNIST include can be found [on Yann LeCun's page](http://yann.lecun.com/exdb/mnist/) and include:\n",
    "\n",
    "88% [Lecun et al., 1998](http://yann.lecun.com/exdb/publis/pdf/lecun-98.pdf)\n",
    "95.3% [Lecun et al., 1998](http://yann.lecun.com/exdb/publis/pdf/lecun-98.pdf)\n",
    "99.65% [Ciresan et al., 2011](http://people.idsia.ch/~juergen/ijcai2011.pdf)\n",
    "\n",
    "MNIST is a great dataset for sanity checking your models, since the accuracy levels achieved by large convolutional neural networks and small linear models are both quite high. This makes it important to be familiar with the data.\n",
    "\n",
    "## Imports"
   ]
  },
  {
   "cell_type": "code",
   "execution_count": 3,
   "metadata": {},
   "outputs": [],
   "source": [
    "## This cell contains the essential imports you will need – DO NOT CHANGE THE CONTENTS! ##\n",
    "import torch\n",
    "import torch.nn as nn\n",
    "import torch.nn.functional as F\n",
    "import torch.optim as optim\n",
    "import torchvision\n",
    "import torchvision.transforms as transforms\n",
    "import matplotlib.pyplot as plt\n",
    "import numpy as np"
   ]
  },
  {
   "cell_type": "code",
   "execution_count": 4,
   "metadata": {},
   "outputs": [
    {
     "name": "stdout",
     "output_type": "stream",
     "text": [
      "Defaulting to user installation because normal site-packages is not writeable\n",
      "Requirement already up-to-date: ipywidgets in /root/.local/lib/python3.7/site-packages (8.1.1)\n",
      "Requirement already satisfied, skipping upgrade: jupyterlab-widgets~=3.0.9 in /root/.local/lib/python3.7/site-packages (from ipywidgets) (3.0.9)\n",
      "Requirement already satisfied, skipping upgrade: widgetsnbextension~=4.0.9 in /root/.local/lib/python3.7/site-packages (from ipywidgets) (4.0.9)\n",
      "Requirement already satisfied, skipping upgrade: traitlets>=4.3.1 in /opt/conda/lib/python3.7/site-packages (from ipywidgets) (4.3.3)\n",
      "Requirement already satisfied, skipping upgrade: ipython>=6.1.0 in /opt/conda/lib/python3.7/site-packages (from ipywidgets) (7.13.0)\n",
      "Requirement already satisfied, skipping upgrade: comm>=0.1.3 in /root/.local/lib/python3.7/site-packages (from ipywidgets) (0.1.4)\n",
      "Requirement already satisfied, skipping upgrade: decorator in /opt/conda/lib/python3.7/site-packages (from traitlets>=4.3.1->ipywidgets) (4.4.2)\n",
      "Requirement already satisfied, skipping upgrade: six in /opt/conda/lib/python3.7/site-packages (from traitlets>=4.3.1->ipywidgets) (1.16.0)\n",
      "Requirement already satisfied, skipping upgrade: ipython-genutils in /opt/conda/lib/python3.7/site-packages (from traitlets>=4.3.1->ipywidgets) (0.2.0)\n",
      "Requirement already satisfied, skipping upgrade: pickleshare in /opt/conda/lib/python3.7/site-packages (from ipython>=6.1.0->ipywidgets) (0.7.5)\n",
      "Requirement already satisfied, skipping upgrade: pexpect; sys_platform != \"win32\" in /opt/conda/lib/python3.7/site-packages (from ipython>=6.1.0->ipywidgets) (4.8.0)\n",
      "Requirement already satisfied, skipping upgrade: setuptools>=18.5 in /opt/conda/lib/python3.7/site-packages (from ipython>=6.1.0->ipywidgets) (45.2.0.post20200209)\n",
      "Requirement already satisfied, skipping upgrade: prompt-toolkit!=3.0.0,!=3.0.1,<3.1.0,>=2.0.0 in /opt/conda/lib/python3.7/site-packages (from ipython>=6.1.0->ipywidgets) (3.0.3)\n",
      "Requirement already satisfied, skipping upgrade: jedi>=0.10 in /opt/conda/lib/python3.7/site-packages (from ipython>=6.1.0->ipywidgets) (0.16.0)\n",
      "Requirement already satisfied, skipping upgrade: backcall in /opt/conda/lib/python3.7/site-packages (from ipython>=6.1.0->ipywidgets) (0.1.0)\n",
      "Requirement already satisfied, skipping upgrade: pygments in /opt/conda/lib/python3.7/site-packages (from ipython>=6.1.0->ipywidgets) (2.5.2)\n",
      "Requirement already satisfied, skipping upgrade: ptyprocess>=0.5 in /opt/conda/lib/python3.7/site-packages (from pexpect; sys_platform != \"win32\"->ipython>=6.1.0->ipywidgets) (0.6.0)\n",
      "Requirement already satisfied, skipping upgrade: wcwidth in /opt/conda/lib/python3.7/site-packages (from prompt-toolkit!=3.0.0,!=3.0.1,<3.1.0,>=2.0.0->ipython>=6.1.0->ipywidgets) (0.1.8)\n",
      "Requirement already satisfied, skipping upgrade: parso>=0.5.2 in /opt/conda/lib/python3.7/site-packages (from jedi>=0.10->ipython>=6.1.0->ipywidgets) (0.6.1)\n"
     ]
    }
   ],
   "source": [
    "!pip install --upgrade ipywidgets"
   ]
  },
  {
   "cell_type": "markdown",
   "metadata": {},
   "source": [
    "## Load the Dataset\n",
    "\n",
    "Specify your transforms as a list if you intend to .\n",
    "The transforms module is already loaded as `transforms`.\n",
    "\n",
    "MNIST is fortunately included in the torchvision module.\n",
    "Then, you can create your dataset using the `MNIST` object from `torchvision.datasets` ([the documentation is available here](https://pytorch.org/vision/stable/datasets.html#mnist)).\n",
    "Make sure to specify `download=True`! \n",
    "\n",
    "Once your dataset is created, you'll also need to define a `DataLoader` from the `torch.utils.data` module for both the train and the test set."
   ]
  },
  {
   "cell_type": "code",
   "execution_count": 5,
   "metadata": {},
   "outputs": [
    {
     "name": "stderr",
     "output_type": "stream",
     "text": [
      "/opt/conda/lib/python3.7/site-packages/torchvision/datasets/mnist.py:498: UserWarning: The given NumPy array is not writable, and PyTorch does not support non-writable tensors. This means writing to this tensor will result in undefined behavior. You may want to copy the array to protect its data or make it writable before converting it to a tensor. This type of warning will be suppressed for the rest of this program. (Triggered internally at  ../torch/csrc/utils/tensor_numpy.cpp:178.)\n",
      "  return torch.from_numpy(parsed.astype(m[2], copy=False)).view(*s)\n"
     ]
    }
   ],
   "source": [
    "# Define transforms\n",
    "transform = transforms.Compose([\n",
    "transforms.Resize(64),\n",
    "transforms. ToTensor(),\n",
    "])\n",
    "\n",
    "# Create training set and define training dataloader\n",
    "train =torchvision.datasets.MNIST(\n",
    "    root='/',\n",
    "    train=True,\n",
    "    download=True,\n",
    "    transform=transform\n",
    ")\n",
    "# Create test set and define test dataloader\n",
    "test =torchvision.datasets.MNIST(\n",
    "    root='/',\n",
    "    train=False,\n",
    "    download=True,\n",
    "    transform=transform\n",
    ")"
   ]
  },
  {
   "cell_type": "markdown",
   "metadata": {},
   "source": [
    "## Justify your preprocessing\n",
    "\n",
    "In your own words, why did you choose the transforms you chose? If you didn't use any preprocessing steps, why not?"
   ]
  },
  {
   "cell_type": "markdown",
   "metadata": {},
   "source": [
    "**transforms.Resize(64):** This transform resizes the input images to a fixed size of 64x64 pixels. The choice of resizing is likely made for several reasons:\n",
    "\n",
    "    - Consistency: Resizing the images to a consistent size ensures that all input data has the same dimensions, which is essential for neural network models.\n",
    "    - Reduced Computational Cost: Smaller images (64x64) are computationally less expensive to process compared to larger ones, which can speed up training and inference.\n",
    "    - Normalization: Resizing can also help normalize the data and reduce variations in object scale, making it easier for the model to learn patterns.\n",
    "**transforms.ToTensor():** This transform converts the resized images into PyTorch tensors. This is a standard step in deep learning with PyTorch because deep learning models operate on tensors rather than raw image data."
   ]
  },
  {
   "cell_type": "markdown",
   "metadata": {},
   "source": [
    "## Explore the Dataset\n",
    "Using matplotlib, numpy, and torch, explore the dimensions of your data.\n",
    "\n",
    "You can view images using the `show5` function defined below – it takes a data loader as an argument.\n",
    "Remember that normalized images will look really weird to you! You may want to try changing your transforms to view images.\n",
    "Typically using no transforms other than `toTensor()` works well for viewing – but not as well for training your network.\n",
    "If `show5` doesn't work, go back and check your code for creating your data loaders and your training/test sets."
   ]
  },
  {
   "cell_type": "code",
   "execution_count": 6,
   "metadata": {},
   "outputs": [],
   "source": [
    "## This cell contains a function for showing 5 images from a dataloader – DO NOT CHANGE THE CONTENTS! ##\n",
    "def show5(img_loader):\n",
    "    dataiter = iter(img_loader)\n",
    "    \n",
    "    batch = next(dataiter)\n",
    "    labels = batch[1][0:5]\n",
    "    images = batch[0][0:5]\n",
    "    for i in range(5):\n",
    "        print(int(labels[i].detach()))\n",
    "    \n",
    "        image = images[i].numpy()\n",
    "        plt.imshow(image.T.squeeze().T)\n",
    "        plt.show()"
   ]
  },
  {
   "cell_type": "code",
   "execution_count": 7,
   "metadata": {},
   "outputs": [
    {
     "name": "stdout",
     "output_type": "stream",
     "text": [
      "7\n"
     ]
    },
    {
     "data": {
      "image/png": "[encoded data removed]",
      "text/plain": [
       "<Figure size 432x288 with 1 Axes>"
      ]
     },
     "metadata": {
      "needs_background": "light"
     },
     "output_type": "display_data"
    },
    {
     "name": "stdout",
     "output_type": "stream",
     "text": [
      "0\n"
     ]
    },
    {
     "data": {
      "image/png": "[encoded data removed]",
      "text/plain": [
       "<Figure size 432x288 with 1 Axes>"
      ]
     },
     "metadata": {
      "needs_background": "light"
     },
     "output_type": "display_data"
    },
    {
     "name": "stdout",
     "output_type": "stream",
     "text": [
      "7\n"
     ]
    },
    {
     "data": {
      "image/png": "[encoded data removed]",
      "text/plain": [
       "<Figure size 432x288 with 1 Axes>"
      ]
     },
     "metadata": {
      "needs_background": "light"
     },
     "output_type": "display_data"
    },
    {
     "name": "stdout",
     "output_type": "stream",
     "text": [
      "6\n"
     ]
    },
    {
     "data": {
      "image/png": "[encoded data removed]",
      "text/plain": [
       "<Figure size 432x288 with 1 Axes>"
      ]
     },
     "metadata": {
      "needs_background": "light"
     },
     "output_type": "display_data"
    },
    {
     "name": "stdout",
     "output_type": "stream",
     "text": [
      "9\n"
     ]
    },
    {
     "data": {
      "image/png": "[encoded data removed]",
      "text/plain": [
       "<Figure size 432x288 with 1 Axes>"
      ]
     },
     "metadata": {
      "needs_background": "light"
     },
     "output_type": "display_data"
    }
   ],
   "source": [
    "# Explore data\n",
    "train_dataloader = torch.utils.data.DataLoader(\n",
    "                train,\n",
    "                batch_size=32,\n",
    "                shuffle=True,\n",
    "                num_workers=8)\n",
    "show5(train_dataloader)"
   ]
  },
  {
   "cell_type": "code",
   "execution_count": 8,
   "metadata": {},
   "outputs": [
    {
     "name": "stdout",
     "output_type": "stream",
     "text": [
      "2\n"
     ]
    },
    {
     "data": {
      "image/png": "[encoded data removed]",
      "text/plain": [
       "<Figure size 432x288 with 1 Axes>"
      ]
     },
     "metadata": {
      "needs_background": "light"
     },
     "output_type": "display_data"
    },
    {
     "name": "stdout",
     "output_type": "stream",
     "text": [
      "8\n"
     ]
    },
    {
     "data": {
      "image/png": "[encoded data removed]",
      "text/plain": [
       "<Figure size 432x288 with 1 Axes>"
      ]
     },
     "metadata": {
      "needs_background": "light"
     },
     "output_type": "display_data"
    },
    {
     "name": "stdout",
     "output_type": "stream",
     "text": [
      "1\n"
     ]
    },
    {
     "data": {
      "image/png": "[encoded data removed]",
      "text/plain": [
       "<Figure size 432x288 with 1 Axes>"
      ]
     },
     "metadata": {
      "needs_background": "light"
     },
     "output_type": "display_data"
    },
    {
     "name": "stdout",
     "output_type": "stream",
     "text": [
      "0\n"
     ]
    },
    {
     "data": {
      "image/png": "[encoded data removed]",
      "text/plain": [
       "<Figure size 432x288 with 1 Axes>"
      ]
     },
     "metadata": {
      "needs_background": "light"
     },
     "output_type": "display_data"
    },
    {
     "name": "stdout",
     "output_type": "stream",
     "text": [
      "7\n"
     ]
    },
    {
     "data": {
      "image/png": "[encoded data removed]",
      "text/plain": [
       "<Figure size 432x288 with 1 Axes>"
      ]
     },
     "metadata": {
      "needs_background": "light"
     },
     "output_type": "display_data"
    }
   ],
   "source": [
    "test_dataloader = torch.utils.data.DataLoader(\n",
    "                test,\n",
    "                batch_size=32,\n",
    "                shuffle=True,\n",
    "                num_workers=8)\n",
    "show5(test_dataloader)"
   ]
  },
  {
   "cell_type": "markdown",
   "metadata": {},
   "source": [
    "## Build your Neural Network\n",
    "Using the layers in `torch.nn` (which has been imported as `nn`) and the `torch.nn.functional` module (imported as `F`), construct a neural network based on the parameters of the dataset.\n",
    "Use any architecture you like. \n",
    "\n",
    "*Note*: If you did not flatten your tensors in your transforms or as part of your preprocessing and you are using only `Linear` layers, make sure to use the `Flatten` layer in your network!"
   ]
  },
  {
   "cell_type": "code",
   "execution_count": 9,
   "metadata": {},
   "outputs": [],
   "source": [
    "class Classifier(nn.Module):\n",
    "    def __init__(self):\n",
    "        super(Classifier, self).__init__()\n",
    "        \n",
    "        self.flatten = nn.Flatten()\n",
    "\n",
    "        self.fc1 = nn.Linear(4096, 784)  \n",
    "        self.relu1 = nn.ReLU()\n",
    "        \n",
    "        self.fc2 = nn.Linear(784, 128)  \n",
    "        self.relu2 = nn.ReLU()\n",
    "        \n",
    "        self.fc3 = nn.Linear(128, 64) \n",
    "        self.relu3 = nn.ReLU()\n",
    "        \n",
    "        self.fc4 = nn.Linear(64, 10)  \n",
    "\n",
    "    def forward(self, x):\n",
    "        x = self.flatten(x)  \n",
    "        x = self.fc1(x)\n",
    "        x = self.relu1(x)\n",
    "        x = self.fc2(x)\n",
    "        x = self.relu2(x)\n",
    "        x = self.fc3(x)\n",
    "        x = self.relu3(x)\n",
    "        x = self.fc4(x)\n",
    "        return x"
   ]
  },
  {
   "cell_type": "code",
   "execution_count": 10,
   "metadata": {},
   "outputs": [
    {
     "name": "stdout",
     "output_type": "stream",
     "text": [
      "Classifier(\n",
      "  (flatten): Flatten(start_dim=1, end_dim=-1)\n",
      "  (fc1): Linear(in_features=4096, out_features=784, bias=True)\n",
      "  (relu1): ReLU()\n",
      "  (fc2): Linear(in_features=784, out_features=128, bias=True)\n",
      "  (relu2): ReLU()\n",
      "  (fc3): Linear(in_features=128, out_features=64, bias=True)\n",
      "  (relu3): ReLU()\n",
      "  (fc4): Linear(in_features=64, out_features=10, bias=True)\n",
      ")\n"
     ]
    }
   ],
   "source": [
    "device = torch.device(\"cuda\" if torch.cuda.is_available() else \"cpu\")\n",
    "model = Classifier().to(device)\n",
    "print(model)"
   ]
  },
  {
   "cell_type": "markdown",
   "metadata": {},
   "source": [
    "Specify a loss function and an optimizer, and instantiate the model.\n",
    "\n",
    "If you use a less common loss function, please note why you chose that loss function in a comment."
   ]
  },
  {
   "cell_type": "code",
   "execution_count": 11,
   "metadata": {},
   "outputs": [],
   "source": [
    "\n",
    "criterion = nn.CrossEntropyLoss()\n",
    "\n",
    "optimizer = optim.Adam(model.parameters(), lr=0.001) "
   ]
  },
  {
   "cell_type": "code",
   "execution_count": 12,
   "metadata": {},
   "outputs": [],
   "source": [
    "train_loss_history = []\n",
    "val_loss_history = []\n",
    "val_accuracy_history = []"
   ]
  },
  {
   "cell_type": "markdown",
   "metadata": {},
   "source": [
    "## Running your Neural Network\n",
    "Use whatever method you like to train your neural network, and ensure you record the average loss at each epoch. \n",
    "Don't forget to use `torch.device()` and the `.to()` method for both your model and your data if you are using GPU!\n",
    "\n",
    "If you want to print your loss **during** each epoch, you can use the `enumerate` function and print the loss after a set number of batches. 250 batches works well for most people!"
   ]
  },
  {
   "cell_type": "code",
   "execution_count": 13,
   "metadata": {},
   "outputs": [
    {
     "name": "stdout",
     "output_type": "stream",
     "text": [
      "Epoch [1/10], Batch [250/1875], Loss: 0.5277\n",
      "Epoch [1/10], Batch [500/1875], Loss: 0.2481\n",
      "Epoch [1/10], Batch [750/1875], Loss: 0.1945\n",
      "Epoch [1/10], Batch [1000/1875], Loss: 0.1708\n",
      "Epoch [1/10], Batch [1250/1875], Loss: 0.1486\n",
      "Epoch [1/10], Batch [1500/1875], Loss: 0.1436\n",
      "Epoch [1/10], Batch [1750/1875], Loss: 0.1353\n",
      "Epoch [2/10], Batch [250/1875], Loss: 0.1009\n",
      "Epoch [2/10], Batch [500/1875], Loss: 0.0986\n",
      "Epoch [2/10], Batch [750/1875], Loss: 0.1115\n",
      "Epoch [2/10], Batch [1000/1875], Loss: 0.0988\n",
      "Epoch [2/10], Batch [1250/1875], Loss: 0.1035\n",
      "Epoch [2/10], Batch [1500/1875], Loss: 0.0945\n",
      "Epoch [2/10], Batch [1750/1875], Loss: 0.0926\n",
      "Epoch [3/10], Batch [250/1875], Loss: 0.0630\n",
      "Epoch [3/10], Batch [500/1875], Loss: 0.0648\n",
      "Epoch [3/10], Batch [750/1875], Loss: 0.0717\n",
      "Epoch [3/10], Batch [1000/1875], Loss: 0.0786\n",
      "Epoch [3/10], Batch [1250/1875], Loss: 0.0850\n",
      "Epoch [3/10], Batch [1500/1875], Loss: 0.0782\n",
      "Epoch [3/10], Batch [1750/1875], Loss: 0.0645\n",
      "Epoch [4/10], Batch [250/1875], Loss: 0.0601\n",
      "Epoch [4/10], Batch [500/1875], Loss: 0.0492\n",
      "Epoch [4/10], Batch [750/1875], Loss: 0.0457\n",
      "Epoch [4/10], Batch [1000/1875], Loss: 0.0614\n",
      "Epoch [4/10], Batch [1250/1875], Loss: 0.0687\n",
      "Epoch [4/10], Batch [1500/1875], Loss: 0.0597\n",
      "Epoch [4/10], Batch [1750/1875], Loss: 0.0651\n",
      "Epoch [5/10], Batch [250/1875], Loss: 0.0368\n",
      "Epoch [5/10], Batch [500/1875], Loss: 0.0511\n",
      "Epoch [5/10], Batch [750/1875], Loss: 0.0430\n",
      "Epoch [5/10], Batch [1000/1875], Loss: 0.0507\n",
      "Epoch [5/10], Batch [1250/1875], Loss: 0.0517\n",
      "Epoch [5/10], Batch [1500/1875], Loss: 0.0518\n",
      "Epoch [5/10], Batch [1750/1875], Loss: 0.0554\n",
      "Epoch [6/10], Batch [250/1875], Loss: 0.0328\n",
      "Epoch [6/10], Batch [500/1875], Loss: 0.0435\n",
      "Epoch [6/10], Batch [750/1875], Loss: 0.0381\n",
      "Epoch [6/10], Batch [1000/1875], Loss: 0.0428\n",
      "Epoch [6/10], Batch [1250/1875], Loss: 0.0490\n",
      "Epoch [6/10], Batch [1500/1875], Loss: 0.0427\n",
      "Epoch [6/10], Batch [1750/1875], Loss: 0.0378\n",
      "Epoch [7/10], Batch [250/1875], Loss: 0.0380\n",
      "Epoch [7/10], Batch [500/1875], Loss: 0.0252\n",
      "Epoch [7/10], Batch [750/1875], Loss: 0.0405\n",
      "Epoch [7/10], Batch [1000/1875], Loss: 0.0394\n",
      "Epoch [7/10], Batch [1250/1875], Loss: 0.0359\n",
      "Epoch [7/10], Batch [1500/1875], Loss: 0.0354\n",
      "Epoch [7/10], Batch [1750/1875], Loss: 0.0447\n",
      "Epoch [8/10], Batch [250/1875], Loss: 0.0267\n",
      "Epoch [8/10], Batch [500/1875], Loss: 0.0287\n",
      "Epoch [8/10], Batch [750/1875], Loss: 0.0283\n",
      "Epoch [8/10], Batch [1000/1875], Loss: 0.0332\n",
      "Epoch [8/10], Batch [1250/1875], Loss: 0.0378\n",
      "Epoch [8/10], Batch [1500/1875], Loss: 0.0325\n",
      "Epoch [8/10], Batch [1750/1875], Loss: 0.0335\n",
      "Epoch [9/10], Batch [250/1875], Loss: 0.0291\n",
      "Epoch [9/10], Batch [500/1875], Loss: 0.0269\n",
      "Epoch [9/10], Batch [750/1875], Loss: 0.0280\n",
      "Epoch [9/10], Batch [1000/1875], Loss: 0.0356\n",
      "Epoch [9/10], Batch [1250/1875], Loss: 0.0296\n",
      "Epoch [9/10], Batch [1500/1875], Loss: 0.0239\n",
      "Epoch [9/10], Batch [1750/1875], Loss: 0.0350\n",
      "Epoch [10/10], Batch [250/1875], Loss: 0.0155\n",
      "Epoch [10/10], Batch [500/1875], Loss: 0.0202\n",
      "Epoch [10/10], Batch [750/1875], Loss: 0.0332\n",
      "Epoch [10/10], Batch [1000/1875], Loss: 0.0204\n",
      "Epoch [10/10], Batch [1250/1875], Loss: 0.0307\n",
      "Epoch [10/10], Batch [1500/1875], Loss: 0.0330\n",
      "Epoch [10/10], Batch [1750/1875], Loss: 0.0284\n"
     ]
    }
   ],
   "source": [
    "num_epochs = 10\n",
    "for epoch in range(num_epochs):\n",
    "    running_loss = 0.0\n",
    "    for i, data in enumerate(train_dataloader, 0):\n",
    "        inputs, labels = data\n",
    "        inputs, labels = inputs.to(device), labels.to(device)\n",
    "\n",
    "        # Zero the parameter gradients\n",
    "        optimizer.zero_grad()\n",
    "\n",
    "        # Forward pass\n",
    "        outputs = model(inputs)\n",
    "        loss = criterion(outputs, labels)\n",
    "\n",
    "        # Backpropagation and optimization\n",
    "        loss.backward()\n",
    "        optimizer.step()\n",
    "\n",
    "        running_loss += loss.item()\n",
    "\n",
    "        # Print the loss every 250 batches\n",
    "        if (i + 1) % 250 == 0:\n",
    "            print(f\"Epoch [{epoch + 1}/{num_epochs}], Batch [{i + 1}/{len(train_dataloader)}], Loss: {running_loss / 250:.4f}\")\n",
    "            train_loss_history.append(running_loss / 250)\n",
    "            running_loss = 0.0\n",
    "        "
   ]
  },
  {
   "cell_type": "markdown",
   "metadata": {},
   "source": [
    "Plot the training loss (and validation loss/accuracy, if recorded)."
   ]
  },
  {
   "cell_type": "code",
   "execution_count": 14,
   "metadata": {},
   "outputs": [
    {
     "data": {
      "image/png": "[encoded data removed]",
      "text/plain": [
       "<Figure size 432x288 with 1 Axes>"
      ]
     },
     "metadata": {
      "needs_background": "light"
     },
     "output_type": "display_data"
    }
   ],
   "source": [
    "plt.plot(train_loss_history, label='Training Loss')\n",
    "plt.xlabel('Batches')\n",
    "plt.ylabel('Loss')\n",
    "plt.legend()\n",
    "plt.title('Training Loss')\n",
    "plt.show()"
   ]
  },
  {
   "cell_type": "markdown",
   "metadata": {},
   "source": [
    "## Testing your model\n",
    "Using the previously created `DataLoader` for the test set, compute the percentage of correct predictions using the highest probability prediction. \n",
    "\n",
    "If your accuracy is over 90%, great work, but see if you can push a bit further! \n",
    "If your accuracy is under 90%, you'll need to make improvements.\n",
    "Go back and check your model architecture, loss function, and optimizer to make sure they're appropriate for an image classification task."
   ]
  },
  {
   "cell_type": "code",
   "execution_count": 15,
   "metadata": {},
   "outputs": [
    {
     "name": "stdout",
     "output_type": "stream",
     "text": [
      "Validation Loss on Test Dataset: 0.0724\n",
      "Validation Accuracy on Test Dataset: 98.08%\n"
     ]
    }
   ],
   "source": [
    "model.eval()\n",
    "val_loss = 0.0\n",
    "correct = 0\n",
    "total = 0\n",
    "with torch.no_grad():\n",
    "    for data in test_dataloader:\n",
    "        inputs, labels = data\n",
    "        inputs, labels = inputs.to(device), labels.to(device)\n",
    "        outputs = model(inputs)\n",
    "        loss = criterion(outputs, labels)\n",
    "        val_loss += loss.item()\n",
    "        _, predicted = torch.max(outputs.data, 1)\n",
    "        total += labels.size(0)\n",
    "        correct += (predicted == labels).sum().item()\n",
    "\n",
    "print(f\"Validation Loss on Test Dataset: {val_loss / len(test_dataloader):.4f}\")\n",
    "print(f\"Validation Accuracy on Test Dataset: {100 * correct / total:.2f}%\")"
   ]
  },
  {
   "cell_type": "markdown",
   "metadata": {},
   "source": [
    "## Improving your model\n",
    "\n",
    "Once your model is done training, try tweaking your hyperparameters and training again below to improve your accuracy on the test set!"
   ]
  },
  {
   "cell_type": "code",
   "execution_count": 17,
   "metadata": {},
   "outputs": [
    {
     "name": "stdout",
     "output_type": "stream",
     "text": [
      "Epoch [1/20], Batch [250/1875], Loss: 0.0300\n",
      "Epoch [1/20], Batch [500/1875], Loss: 0.0244\n",
      "Epoch [1/20], Batch [750/1875], Loss: 0.0263\n",
      "Epoch [1/20], Batch [1000/1875], Loss: 0.0228\n",
      "Epoch [1/20], Batch [1250/1875], Loss: 0.0165\n",
      "Epoch [1/20], Batch [1500/1875], Loss: 0.0381\n",
      "Epoch [1/20], Batch [1750/1875], Loss: 0.0331\n",
      "Epoch [2/20], Batch [250/1875], Loss: 0.0190\n",
      "Epoch [2/20], Batch [500/1875], Loss: 0.0182\n",
      "Epoch [2/20], Batch [750/1875], Loss: 0.0172\n",
      "Epoch [2/20], Batch [1000/1875], Loss: 0.0264\n",
      "Epoch [2/20], Batch [1250/1875], Loss: 0.0229\n",
      "Epoch [2/20], Batch [1500/1875], Loss: 0.0266\n",
      "Epoch [2/20], Batch [1750/1875], Loss: 0.0189\n",
      "Epoch [3/20], Batch [250/1875], Loss: 0.0184\n",
      "Epoch [3/20], Batch [500/1875], Loss: 0.0246\n",
      "Epoch [3/20], Batch [750/1875], Loss: 0.0158\n",
      "Epoch [3/20], Batch [1000/1875], Loss: 0.0242\n",
      "Epoch [3/20], Batch [1250/1875], Loss: 0.0167\n",
      "Epoch [3/20], Batch [1500/1875], Loss: 0.0271\n",
      "Epoch [3/20], Batch [1750/1875], Loss: 0.0253\n",
      "Epoch [4/20], Batch [250/1875], Loss: 0.0117\n",
      "Epoch [4/20], Batch [500/1875], Loss: 0.0238\n",
      "Epoch [4/20], Batch [750/1875], Loss: 0.0154\n",
      "Epoch [4/20], Batch [1000/1875], Loss: 0.0183\n",
      "Epoch [4/20], Batch [1250/1875], Loss: 0.0247\n",
      "Epoch [4/20], Batch [1500/1875], Loss: 0.0203\n",
      "Epoch [4/20], Batch [1750/1875], Loss: 0.0313\n",
      "Epoch [5/20], Batch [250/1875], Loss: 0.0113\n",
      "Epoch [5/20], Batch [500/1875], Loss: 0.0237\n",
      "Epoch [5/20], Batch [750/1875], Loss: 0.0143\n",
      "Epoch [5/20], Batch [1000/1875], Loss: 0.0225\n",
      "Epoch [5/20], Batch [1250/1875], Loss: 0.0211\n",
      "Epoch [5/20], Batch [1500/1875], Loss: 0.0162\n",
      "Epoch [5/20], Batch [1750/1875], Loss: 0.0220\n",
      "Epoch [6/20], Batch [250/1875], Loss: 0.0139\n",
      "Epoch [6/20], Batch [500/1875], Loss: 0.0145\n",
      "Epoch [6/20], Batch [750/1875], Loss: 0.0164\n",
      "Epoch [6/20], Batch [1000/1875], Loss: 0.0198\n",
      "Epoch [6/20], Batch [1250/1875], Loss: 0.0286\n",
      "Epoch [6/20], Batch [1500/1875], Loss: 0.0216\n",
      "Epoch [6/20], Batch [1750/1875], Loss: 0.0165\n",
      "Epoch [7/20], Batch [250/1875], Loss: 0.0151\n",
      "Epoch [7/20], Batch [500/1875], Loss: 0.0126\n",
      "Epoch [7/20], Batch [750/1875], Loss: 0.0250\n",
      "Epoch [7/20], Batch [1000/1875], Loss: 0.0253\n",
      "Epoch [7/20], Batch [1250/1875], Loss: 0.0124\n",
      "Epoch [7/20], Batch [1500/1875], Loss: 0.0166\n",
      "Epoch [7/20], Batch [1750/1875], Loss: 0.0245\n",
      "Epoch [8/20], Batch [250/1875], Loss: 0.0129\n",
      "Epoch [8/20], Batch [500/1875], Loss: 0.0178\n",
      "Epoch [8/20], Batch [750/1875], Loss: 0.0163\n",
      "Epoch [8/20], Batch [1000/1875], Loss: 0.0155\n",
      "Epoch [8/20], Batch [1250/1875], Loss: 0.0290\n",
      "Epoch [8/20], Batch [1500/1875], Loss: 0.0183\n",
      "Epoch [8/20], Batch [1750/1875], Loss: 0.0206\n",
      "Epoch [9/20], Batch [250/1875], Loss: 0.0123\n",
      "Epoch [9/20], Batch [500/1875], Loss: 0.0125\n",
      "Epoch [9/20], Batch [750/1875], Loss: 0.0158\n",
      "Epoch [9/20], Batch [1000/1875], Loss: 0.0087\n",
      "Epoch [9/20], Batch [1250/1875], Loss: 0.0120\n",
      "Epoch [9/20], Batch [1500/1875], Loss: 0.0107\n",
      "Epoch [9/20], Batch [1750/1875], Loss: 0.0212\n",
      "Epoch [10/20], Batch [250/1875], Loss: 0.0163\n",
      "Epoch [10/20], Batch [500/1875], Loss: 0.0135\n",
      "Epoch [10/20], Batch [750/1875], Loss: 0.0119\n",
      "Epoch [10/20], Batch [1000/1875], Loss: 0.0209\n",
      "Epoch [10/20], Batch [1250/1875], Loss: 0.0138\n",
      "Epoch [10/20], Batch [1500/1875], Loss: 0.0219\n",
      "Epoch [10/20], Batch [1750/1875], Loss: 0.0139\n",
      "Epoch [11/20], Batch [250/1875], Loss: 0.0264\n",
      "Epoch [11/20], Batch [500/1875], Loss: 0.0143\n",
      "Epoch [11/20], Batch [750/1875], Loss: 0.0154\n",
      "Epoch [11/20], Batch [1000/1875], Loss: 0.0145\n",
      "Epoch [11/20], Batch [1250/1875], Loss: 0.0241\n",
      "Epoch [11/20], Batch [1500/1875], Loss: 0.0180\n",
      "Epoch [11/20], Batch [1750/1875], Loss: 0.0191\n",
      "Epoch [12/20], Batch [250/1875], Loss: 0.0095\n",
      "Epoch [12/20], Batch [500/1875], Loss: 0.0148\n",
      "Epoch [12/20], Batch [750/1875], Loss: 0.0112\n",
      "Epoch [12/20], Batch [1000/1875], Loss: 0.0158\n",
      "Epoch [12/20], Batch [1250/1875], Loss: 0.0172\n",
      "Epoch [12/20], Batch [1500/1875], Loss: 0.0144\n",
      "Epoch [12/20], Batch [1750/1875], Loss: 0.0138\n",
      "Epoch [13/20], Batch [250/1875], Loss: 0.0084\n",
      "Epoch [13/20], Batch [500/1875], Loss: 0.0197\n",
      "Epoch [13/20], Batch [750/1875], Loss: 0.0092\n",
      "Epoch [13/20], Batch [1000/1875], Loss: 0.0168\n",
      "Epoch [13/20], Batch [1250/1875], Loss: 0.0102\n",
      "Epoch [13/20], Batch [1500/1875], Loss: 0.0174\n",
      "Epoch [13/20], Batch [1750/1875], Loss: 0.0162\n",
      "Epoch [14/20], Batch [250/1875], Loss: 0.0144\n",
      "Epoch [14/20], Batch [500/1875], Loss: 0.0190\n",
      "Epoch [14/20], Batch [750/1875], Loss: 0.0143\n",
      "Epoch [14/20], Batch [1000/1875], Loss: 0.0133\n",
      "Epoch [14/20], Batch [1250/1875], Loss: 0.0111\n",
      "Epoch [14/20], Batch [1500/1875], Loss: 0.0098\n",
      "Epoch [14/20], Batch [1750/1875], Loss: 0.0156\n",
      "Epoch [15/20], Batch [250/1875], Loss: 0.0140\n",
      "Epoch [15/20], Batch [500/1875], Loss: 0.0225\n",
      "Epoch [15/20], Batch [750/1875], Loss: 0.0146\n",
      "Epoch [15/20], Batch [1000/1875], Loss: 0.0162\n",
      "Epoch [15/20], Batch [1250/1875], Loss: 0.0095\n",
      "Epoch [15/20], Batch [1500/1875], Loss: 0.0162\n",
      "Epoch [15/20], Batch [1750/1875], Loss: 0.0214\n",
      "Epoch [16/20], Batch [250/1875], Loss: 0.0085\n",
      "Epoch [16/20], Batch [500/1875], Loss: 0.0095\n",
      "Epoch [16/20], Batch [750/1875], Loss: 0.0114\n",
      "Epoch [16/20], Batch [1000/1875], Loss: 0.0149\n",
      "Epoch [16/20], Batch [1250/1875], Loss: 0.0151\n",
      "Epoch [16/20], Batch [1500/1875], Loss: 0.0114\n",
      "Epoch [16/20], Batch [1750/1875], Loss: 0.0117\n",
      "Epoch [17/20], Batch [250/1875], Loss: 0.0114\n",
      "Epoch [17/20], Batch [500/1875], Loss: 0.0125\n",
      "Epoch [17/20], Batch [750/1875], Loss: 0.0087\n",
      "Epoch [17/20], Batch [1000/1875], Loss: 0.0079\n",
      "Epoch [17/20], Batch [1250/1875], Loss: 0.0181\n",
      "Epoch [17/20], Batch [1500/1875], Loss: 0.0139\n",
      "Epoch [17/20], Batch [1750/1875], Loss: 0.0292\n",
      "Epoch [18/20], Batch [250/1875], Loss: 0.0339\n",
      "Epoch [18/20], Batch [500/1875], Loss: 0.0150\n",
      "Epoch [18/20], Batch [750/1875], Loss: 0.0146\n",
      "Epoch [18/20], Batch [1000/1875], Loss: 0.0085\n",
      "Epoch [18/20], Batch [1250/1875], Loss: 0.0077\n",
      "Epoch [18/20], Batch [1500/1875], Loss: 0.0243\n",
      "Epoch [18/20], Batch [1750/1875], Loss: 0.0187\n",
      "Epoch [19/20], Batch [250/1875], Loss: 0.0074\n",
      "Epoch [19/20], Batch [500/1875], Loss: 0.0075\n",
      "Epoch [19/20], Batch [750/1875], Loss: 0.0078\n",
      "Epoch [19/20], Batch [1000/1875], Loss: 0.0091\n",
      "Epoch [19/20], Batch [1250/1875], Loss: 0.0116\n",
      "Epoch [19/20], Batch [1500/1875], Loss: 0.0138\n",
      "Epoch [19/20], Batch [1750/1875], Loss: 0.0057\n",
      "Epoch [20/20], Batch [250/1875], Loss: 0.0060\n",
      "Epoch [20/20], Batch [500/1875], Loss: 0.0067\n",
      "Epoch [20/20], Batch [750/1875], Loss: 0.0157\n",
      "Epoch [20/20], Batch [1000/1875], Loss: 0.0104\n",
      "Epoch [20/20], Batch [1250/1875], Loss: 0.0201\n",
      "Epoch [20/20], Batch [1500/1875], Loss: 0.0110\n",
      "Epoch [20/20], Batch [1750/1875], Loss: 0.0160\n",
      "Validation Loss on Test Dataset: 0.1463\n",
      "Validation Accuracy on Test Dataset: 98.10%\n"
     ]
    }
   ],
   "source": [
    "num_epochs = 20  # Increased the number of epochs\n",
    "for epoch in range(num_epochs):\n",
    "    running_loss = 0.0\n",
    "    for i, data in enumerate(train_dataloader, 0):\n",
    "        inputs, labels = data\n",
    "        inputs, labels = inputs.to(device), labels.to(device)\n",
    "\n",
    "        # Zero the parameter gradients\n",
    "        optimizer.zero_grad()\n",
    "\n",
    "        # Forward pass\n",
    "        outputs = model(inputs)\n",
    "        loss = criterion(outputs, labels)\n",
    "\n",
    "        # Backpropagation and optimization\n",
    "        loss.backward()\n",
    "        optimizer.step()\n",
    "\n",
    "        running_loss += loss.item()\n",
    "\n",
    "        # Print the loss every 250 batches\n",
    "        if (i + 1) % 250 == 0:\n",
    "            print(f\"Epoch [{epoch + 1}/{num_epochs}], Batch [{i + 1}/{len(train_dataloader)}], Loss: {running_loss / 250:.4f}\")\n",
    "            train_loss_history.append(running_loss / 250)\n",
    "            running_loss = 0.0\n",
    "\n",
    "\n",
    "\n",
    "# Validation on the test dataset\n",
    "model.eval()\n",
    "val_loss = 0.0\n",
    "correct = 0\n",
    "total = 0\n",
    "with torch.no_grad():\n",
    "    for data in test_dataloader:\n",
    "        inputs, labels = data\n",
    "        inputs, labels = inputs.to(device), labels.to(device)\n",
    "        outputs = model(inputs)\n",
    "        loss = criterion(outputs, labels)\n",
    "        val_loss += loss.item()\n",
    "        _, predicted = torch.max(outputs.data, 1)\n",
    "        total += labels.size(0)\n",
    "        correct += (predicted == labels).sum().item()\n",
    "print(f\"Validation Loss on Test Dataset: {val_loss / len(test_dataloader):.4f}\")\n",
    "print(f\"Validation Accuracy on Test Dataset: {100 * correct / total:.2f}%\")"
   ]
  },
  {
   "cell_type": "markdown",
   "metadata": {},
   "source": [
    "## Saving your model\n",
    "Using `torch.save`, save your model for future loading."
   ]
  },
  {
   "cell_type": "code",
   "execution_count": 18,
   "metadata": {},
   "outputs": [],
   "source": [
    "torch.save(model.state_dict(), 'mnist_model.pth')"
   ]
  },
  {
   "cell_type": "code",
   "execution_count": null,
   "metadata": {},
   "outputs": [],
   "source": []
  }
 ],
 "metadata": {
  "kernelspec": {
   "display_name": "Python 3",
   "language": "python",
   "name": "python3"
  },
  "language_info": {
   "codemirror_mode": {
    "name": "ipython",
    "version": 3
   },
   "file_extension": ".py",
   "mimetype": "text/x-python",
   "name": "python",
   "nbconvert_exporter": "python",
   "pygments_lexer": "ipython3",
   "version": "3.7.6"
  }
 },
 "nbformat": 4,
 "nbformat_minor": 4
}
